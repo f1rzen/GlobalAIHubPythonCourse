{
 "cells": [
  {
   "cell_type": "code",
   "execution_count": 9,
   "metadata": {},
   "outputs": [
    {
     "name": "stdout",
     "output_type": "stream",
     "text": [
      "Please Enter Your User Name: Ilkay\n",
      "Please Enter Your Password: 1e9cfd\n",
      "Login Successful\n"
     ]
    }
   ],
   "source": [
    "User1 = {\"Name\": \"Ilkay\", \"Password\":\"1e9cfd\"}\n",
    "\n",
    "x = input (\"Please Enter Your User Name: \")\n",
    "y = input (\"Please Enter Your Password: \")\n",
    "\n",
    "if x==User1[\"Name\"]:\n",
    "    if y == User1[\"Password\"]:\n",
    "        print (\"Login Successful\")\n",
    "    else:\n",
    "        print(\"Your Password Is Incorrect!\")\n",
    "        \n",
    "else:\n",
    "    print(\"Invalid User Name \")"
   ]
  },
  {
   "cell_type": "code",
   "execution_count": null,
   "metadata": {},
   "outputs": [],
   "source": []
  }
 ],
 "metadata": {
  "kernelspec": {
   "display_name": "Python 3",
   "language": "python",
   "name": "python3"
  },
  "language_info": {
   "codemirror_mode": {
    "name": "ipython",
    "version": 3
   },
   "file_extension": ".py",
   "mimetype": "text/x-python",
   "name": "python",
   "nbconvert_exporter": "python",
   "pygments_lexer": "ipython3",
   "version": "3.8.5"
  }
 },
 "nbformat": 4,
 "nbformat_minor": 4
}
